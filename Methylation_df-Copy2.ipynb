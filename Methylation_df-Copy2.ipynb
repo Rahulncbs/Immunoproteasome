{
 "cells": [
  {
   "cell_type": "code",
   "execution_count": 50,
   "metadata": {},
   "outputs": [],
   "source": [
    "import pandas as pd \n",
    "import numpy as np\n",
    "import matplotlib.pyplot as plt\n",
    "import sys\n",
    "from sklearn.preprocessing import StandardScaler\n",
    "import seaborn as sns\n",
    "import collections\n",
    "import scipy\n",
    "from scipy import stats\n",
    "from statannot import add_stat_annotation\n",
    "from scipy.stats import mannwhitneyu\n",
    "import matplotlib as mpl\n",
    "\n",
    "from scipy.cluster.hierarchy import linkage, is_valid_linkage\n",
    "from scipy.spatial.distance import pdist\n",
    "\n",
    "from scipy.cluster.hierarchy import fcluster\n",
    "\n",
    "from sklearn.decomposition import NMF\n",
    "\n",
    "from sklearn.manifold import TSNE\n",
    "from sklearn.decomposition import PCA\n",
    "from bioinfokit.visuz import cluster\n",
    "from sklearn.cluster import DBSCAN"
   ]
  },
  {
   "cell_type": "code",
   "execution_count": 51,
   "metadata": {},
   "outputs": [],
   "source": [
    "cp_ip={'constitutive proteosome': '#bf812d','Immuno proteosome':'#35978f'}"
   ]
  },
  {
   "cell_type": "code",
   "execution_count": 52,
   "metadata": {},
   "outputs": [],
   "source": [
    "commonFontsize=8\n",
    "def config_rcparams():\n",
    "    plt.rcParams['font.family'] = ['sans-serif']\n",
    "    plt.rcParams['font.sans-serif'] = ['arial']\n",
    "    plt.rcParams['font.size'] = commonFontsize\n",
    "    plt.rcParams['axes.labelsize'] = commonFontsize\n",
    "    plt.rcParams['xtick.labelsize'] = commonFontsize\n",
    "    plt.rcParams['ytick.labelsize'] = commonFontsize\n",
    "    plt.rcParams['axes.titlesize'] = commonFontsize\n",
    "    plt.rcParams['svg.fonttype'] = 'none'\n",
    "    plt.rcParams['mathtext.fontset'] = 'custom'\n",
    "    plt.rcParams['mathtext.cal'] = 'arial'\n",
    "    plt.rcParams['mathtext.rm'] = 'arial'\n",
    "    plt.rcParams['axes.edgecolor'] = 'black'\n",
    "    plt.rcParams['ytick.color'] = 'black'\n",
    "    plt.rcParams['axes.linewidth'] = 0.7\n",
    "    plt.rcParams['xtick.major.width'] = 0.7\n",
    "    plt.rcParams['ytick.major.width'] = 0.7\n",
    "    plt.rcParams['xtick.major.size' ] = 3\n",
    "    plt.rcParams['ytick.major.size' ] = 3\n",
    "    plt.rcParams['text.usetex' ] = False\n",
    "config_rcparams()"
   ]
  },
  {
   "cell_type": "markdown",
   "metadata": {},
   "source": [
    "## Collect all the probes for the methylation"
   ]
  },
  {
   "cell_type": "code",
   "execution_count": 53,
   "metadata": {},
   "outputs": [],
   "source": [
    "import glob, os\n",
    "os.chdir(\"/workspace/shared/dataset/tcga_exome/methylation/correlation_methylation_vs_mRNA/\")\n",
    "methylation_tumor_corr=[]\n",
    "for  i in glob.glob(\"*.txt\"):\n",
    "    methylation_tumor_corr.append(i)\n",
    "os.chdir(\"/workspace/projects/immunoproteasome/\")"
   ]
  },
  {
   "cell_type": "code",
   "execution_count": 54,
   "metadata": {},
   "outputs": [],
   "source": [
    "### Importing methylation beta value\n",
    "input_path2=\"/workspace/projects/immunoproteasome/\"\n",
    "meth_df_beta_value=pd.read_csv(input_path2+\"jhu-usc.edu_PANCAN_merged_HumanMethylation27_HumanMethylation450.betaValue_whitelisted.tsv\",sep=\"\\t\")\n",
    "meth_df_beta_value.columns= meth_df_beta_value.columns.str.split('-').str[0:3].str.join('.')\n",
    "meth_df_beta_value1=meth_df_beta_value.set_index('Composite Element REF')\n",
    "meth_df_beta_value2=meth_df_beta_value1.T"
   ]
  },
  {
   "cell_type": "code",
   "execution_count": 55,
   "metadata": {},
   "outputs": [],
   "source": [
    "### Importing copy number file\n",
    "copy_no_df=pd.read_csv(\"/workspace/shared/dataset/tcga_exome/CNA/all_thresholded.by_genes_whitelisted.tsv\",index_col='Gene Symbol',sep=\"\\t\")\n",
    "copy_no_df=copy_no_df.drop(['Locus ID','Cytoband'],axis=1)\n",
    "copy_no_df.columns= copy_no_df.columns.str.split('-').str[0:3].str.join('.')\n",
    "copy_no_df2=copy_no_df.T[['PSMB8','PSMB9','PSMB10']]"
   ]
  },
  {
   "cell_type": "code",
   "execution_count": 56,
   "metadata": {},
   "outputs": [],
   "source": [
    "copy_no_meth_df=pd.merge(copy_no_df2, meth_df_beta_value2, left_index=True, right_index=True)"
   ]
  },
  {
   "cell_type": "code",
   "execution_count": 57,
   "metadata": {
    "scrolled": false
   },
   "outputs": [],
   "source": [
    "## Collecting genes probe combination intersecting the probes in the methylation correaltion file with the methylation beta value file\n",
    "input_path1=\"/workspace/shared/dataset/tcga_exome/methylation/correlation_methylation_vs_mRNA/\"\n",
    "meth_beta_value_probe_list=list(meth_df_beta_value2.columns)\n",
    "meth_probe_list=[]\n",
    "frames={}\n",
    "frames1={}\n",
    "gene_probes=['PSMB8','PSMB9','PSMB10']\n",
    "for j in range(3):\n",
    "    meth_probe_list=[]\n",
    "    tissue_type=[]\n",
    "    for i in range(len(methylation_tumor_corr)):\n",
    "        meth_df = pd.read_csv(input_path1+methylation_tumor_corr[i],delimiter=\"\\t\")\n",
    "        meth_probe_list.append(list(meth_df[meth_df['Gene']==gene_probes[j]]['Meth_Probe']))\n",
    "        tissue_type.append(methylation_tumor_corr[i].split('_')[4].split('-')[0])\n",
    "        \n",
    "    df_tissue_probe=pd.DataFrame(meth_probe_list,columns=['probe'])\n",
    "    df_tissue_probe['tumor_type']=tissue_type\n",
    "    df_tissue_probe['genes']=gene_probes[j]\n",
    "    frames1[j]=df_tissue_probe                \n",
    "\n",
    "    meth_probe_list_all=list(set(sum(meth_probe_list,[])))\n",
    "    all_beta_value_int_list=list(set(meth_beta_value_probe_list).intersection(meth_probe_list_all))\n",
    "    \n",
    "    df_probe_gene=pd.DataFrame()\n",
    "    df_probe_gene['probes']=all_beta_value_int_list\n",
    "    df_probe_gene['genes']=gene_probes[j]\n",
    "    frames[j]=df_probe_gene\n",
    "\n",
    "## extracting tumor type specific probe\n",
    "probe_gene_df=pd.concat(frames)\n",
    "df_probe_tt_genes=pd.concat(frames1)\n",
    "df_probe_tt_genes_final=df_probe_tt_genes[df_probe_tt_genes['probe'].isin(list(probe_gene_df['probes']))]"
   ]
  },
  {
   "cell_type": "code",
   "execution_count": 58,
   "metadata": {},
   "outputs": [
    {
     "data": {
      "text/html": [
       "<div>\n",
       "<style scoped>\n",
       "    .dataframe tbody tr th:only-of-type {\n",
       "        vertical-align: middle;\n",
       "    }\n",
       "\n",
       "    .dataframe tbody tr th {\n",
       "        vertical-align: top;\n",
       "    }\n",
       "\n",
       "    .dataframe thead th {\n",
       "        text-align: right;\n",
       "    }\n",
       "</style>\n",
       "<table border=\"1\" class=\"dataframe\">\n",
       "  <thead>\n",
       "    <tr style=\"text-align: right;\">\n",
       "      <th></th>\n",
       "      <th></th>\n",
       "      <th>probe</th>\n",
       "      <th>tumor_type</th>\n",
       "      <th>genes</th>\n",
       "    </tr>\n",
       "  </thead>\n",
       "  <tbody>\n",
       "    <tr>\n",
       "      <th rowspan=\"2\" valign=\"top\">1</th>\n",
       "      <th>17</th>\n",
       "      <td>cg12762680</td>\n",
       "      <td>GBM</td>\n",
       "      <td>PSMB9</td>\n",
       "    </tr>\n",
       "    <tr>\n",
       "      <th>29</th>\n",
       "      <td>cg12762680</td>\n",
       "      <td>OV</td>\n",
       "      <td>PSMB9</td>\n",
       "    </tr>\n",
       "    <tr>\n",
       "      <th rowspan=\"5\" valign=\"top\">2</th>\n",
       "      <th>2</th>\n",
       "      <td>cg11451801</td>\n",
       "      <td>TGCT</td>\n",
       "      <td>PSMB10</td>\n",
       "    </tr>\n",
       "    <tr>\n",
       "      <th>6</th>\n",
       "      <td>cg11451801</td>\n",
       "      <td>THCA</td>\n",
       "      <td>PSMB10</td>\n",
       "    </tr>\n",
       "    <tr>\n",
       "      <th>17</th>\n",
       "      <td>cg11451801</td>\n",
       "      <td>GBM</td>\n",
       "      <td>PSMB10</td>\n",
       "    </tr>\n",
       "    <tr>\n",
       "      <th>22</th>\n",
       "      <td>cg11451801</td>\n",
       "      <td>KIRC</td>\n",
       "      <td>PSMB10</td>\n",
       "    </tr>\n",
       "    <tr>\n",
       "      <th>29</th>\n",
       "      <td>cg11451801</td>\n",
       "      <td>OV</td>\n",
       "      <td>PSMB10</td>\n",
       "    </tr>\n",
       "  </tbody>\n",
       "</table>\n",
       "</div>"
      ],
      "text/plain": [
       "           probe tumor_type   genes\n",
       "1 17  cg12762680        GBM   PSMB9\n",
       "  29  cg12762680         OV   PSMB9\n",
       "2 2   cg11451801       TGCT  PSMB10\n",
       "  6   cg11451801       THCA  PSMB10\n",
       "  17  cg11451801        GBM  PSMB10\n",
       "  22  cg11451801       KIRC  PSMB10\n",
       "  29  cg11451801         OV  PSMB10"
      ]
     },
     "execution_count": 58,
     "metadata": {},
     "output_type": "execute_result"
    }
   ],
   "source": [
    "df_probe_tt_genes_final"
   ]
  },
  {
   "cell_type": "code",
   "execution_count": 85,
   "metadata": {
    "scrolled": false
   },
   "outputs": [
    {
     "name": "stderr",
     "output_type": "stream",
     "text": [
      "/home/rahul/miniconda3/envs/testenv/lib/python3.6/site-packages/pandas/core/indexing.py:1763: SettingWithCopyWarning: \n",
      "A value is trying to be set on a copy of a slice from a DataFrame.\n",
      "Try using .loc[row_indexer,col_indexer] = value instead\n",
      "\n",
      "See the caveats in the documentation: https://pandas.pydata.org/pandas-docs/stable/user_guide/indexing.html#returning-a-view-versus-a-copy\n",
      "  isetter(loc, value)\n"
     ]
    },
    {
     "name": "stdout",
     "output_type": "stream",
     "text": [
      "p-value annotation legend:\n",
      "ns: 5.00e-02 < p <= 1.00e+00\n",
      "*: 1.00e-02 < p <= 5.00e-02\n",
      "**: 1.00e-03 < p <= 1.00e-02\n",
      "***: 1.00e-04 < p <= 1.00e-03\n",
      "****: p <= 1.00e-04\n",
      "\n",
      "none v.s. deleted: Mann-Whitney-Wilcoxon test two-sided, P_val=2.350e-53 U_stat=1.295e+07\n",
      "deleted v.s. amplified: Mann-Whitney-Wilcoxon test two-sided, P_val=4.668e-45 U_stat=1.841e+06\n",
      "none v.s. amplified: Mann-Whitney-Wilcoxon test two-sided, P_val=9.108e-04 U_stat=5.218e+06\n"
     ]
    },
    {
     "data": {
      "image/png": "[encoded data removed]",
      "text/plain": [
       "<Figure size 432x288 with 1 Axes>"
      ]
     },
     "metadata": {},
     "output_type": "display_data"
    },
    {
     "name": "stderr",
     "output_type": "stream",
     "text": [
      "/home/rahul/miniconda3/envs/testenv/lib/python3.6/site-packages/pandas/core/indexing.py:1763: SettingWithCopyWarning: \n",
      "A value is trying to be set on a copy of a slice from a DataFrame.\n",
      "Try using .loc[row_indexer,col_indexer] = value instead\n",
      "\n",
      "See the caveats in the documentation: https://pandas.pydata.org/pandas-docs/stable/user_guide/indexing.html#returning-a-view-versus-a-copy\n",
      "  isetter(loc, value)\n"
     ]
    },
    {
     "name": "stdout",
     "output_type": "stream",
     "text": [
      "p-value annotation legend:\n",
      "ns: 5.00e-02 < p <= 1.00e+00\n",
      "*: 1.00e-02 < p <= 5.00e-02\n",
      "**: 1.00e-03 < p <= 1.00e-02\n",
      "***: 1.00e-04 < p <= 1.00e-03\n",
      "****: p <= 1.00e-04\n",
      "\n",
      "none v.s. amplified: Mann-Whitney-Wilcoxon test two-sided, P_val=3.333e-52 U_stat=1.093e+07\n",
      "amplified v.s. deleted: Mann-Whitney-Wilcoxon test two-sided, P_val=1.757e-103 U_stat=1.023e+06\n",
      "none v.s. deleted: Mann-Whitney-Wilcoxon test two-sided, P_val=5.608e-55 U_stat=4.432e+06\n"
     ]
    },
    {
     "data": {
      "image/png": "[encoded data removed]",
      "text/plain": [
       "<Figure size 432x288 with 1 Axes>"
      ]
     },
     "metadata": {},
     "output_type": "display_data"
    }
   ],
   "source": [
    "#sns.set(font_scale=1)\n",
    "order=['none','deleted','amplified']\n",
    "box_pairs=[('none','deleted'),('none','amplified'),('deleted','amplified')]\n",
    "dft=copy_no_meth_df[['PSMB10','cg11451801']]\n",
    "#dft['cg11451801']=np.log2(dft['cg11451801']+1)\n",
    "dft.loc[dft[\"PSMB10\"] == 0,'PSMB10'] = 'none'\n",
    "dft.loc[dft[\"PSMB10\"] == 1,'PSMB10'] = 'amplified'\n",
    "dft.loc[dft[\"PSMB10\"] == 2,'PSMB10'] = 'amplified'\n",
    "dft.loc[dft[\"PSMB10\"] == -1,'PSMB10'] = 'deleted'\n",
    "dft.loc[dft[\"PSMB10\"] == -2,'PSMB10'] = 'deleted'\n",
    "res=sns.boxplot(x=\"PSMB10\", y=\"cg11451801\",data=dft,showfliers=False,order=order)\n",
    "add_stat_annotation(res, data=dft, x=\"PSMB10\", y=\"cg11451801\",box_pairs=box_pairs,test='Mann-Whitney',comparisons_correction=None,text_format='star', loc='outside', verbose=2,linewidth=0.9,fontsize = 12)\n",
    "res.set(ylim=(0, 0.2))\n",
    "plt.savefig('/workspace/projects/immunoproteasome/plots/PSMB10_meth_probe_plot.svg',bbox_inches = \"tight\",dpi=500)\n",
    "plt.show()\n",
    "\n",
    "dft=copy_no_meth_df[['PSMB9','cg12762680']]\n",
    "#dft['cg12762680']=np.log2(dft['cg12762680']+1)\n",
    "dft.loc[dft[\"PSMB9\"] == 0,'PSMB9'] = 'none'\n",
    "dft.loc[dft[\"PSMB9\"] == 1,'PSMB9'] = 'amplified'\n",
    "dft.loc[dft[\"PSMB9\"] == 2,'PSMB9'] = 'amplified'\n",
    "dft.loc[dft[\"PSMB9\"] == -1,'PSMB9'] = 'deleted'\n",
    "dft.loc[dft[\"PSMB9\"] == -2,'PSMB9'] = 'deleted'\n",
    "res=sns.boxplot(x=\"PSMB9\", y=\"cg12762680\",data=dft,showfliers=False,order=order)\n",
    "add_stat_annotation(res, data=dft, x=\"PSMB9\", y=\"cg12762680\",box_pairs=box_pairs,test='Mann-Whitney',comparisons_correction=None,text_format='star', loc='outside', verbose=2,linewidth=0.9,fontsize = 12)\n",
    "res.set(ylim=(0, 0.2))\n",
    "plt.savefig('/workspace/projects/immunoproteasome/plots/PSMB9_meth_probe_plot.svg',bbox_inches = \"tight\",dpi=500)\n",
    "plt.show()\n"
   ]
  },
  {
   "cell_type": "markdown",
   "metadata": {},
   "source": [
    "### IL6-JAK STAT pathways analysis"
   ]
  },
  {
   "cell_type": "code",
   "execution_count": 75,
   "metadata": {},
   "outputs": [],
   "source": [
    "import glob, os\n",
    "os.chdir(\"/workspace/projects/immunoproteasome/v1_copy_5/03_output/\")\n",
    "tumor_tissue_pathway_score=[]\n",
    "for  i in glob.glob(\"GSVA*.tsv\"):\n",
    "    tumor_tissue_pathway_score.append(i)\n",
    "os.chdir(\"/workspace/projects/immunoproteasome/\")"
   ]
  },
  {
   "cell_type": "code",
   "execution_count": 76,
   "metadata": {
    "scrolled": false
   },
   "outputs": [],
   "source": [
    "tt_list=list(df_probe_tt_genes_final['tumor_type'])\n",
    "gene_list=list(df_probe_tt_genes_final['genes'])\n",
    "probe_list=list(df_probe_tt_genes_final['probe'])\n",
    "\n",
    "input_path11=\"/workspace/projects/immunoproteasome/v1_copy_5/03_output/\"\n",
    "frames_jak_stat={}\n",
    "for i in range(len(tumor_tissue_pathway_score)):\n",
    "    pathway_score_df=pd.read_csv(input_path11+tumor_tissue_pathway_score[i],sep='\\t')\n",
    "    jak_stat_pathway_score_df=pathway_score_df.T[['HALLMARK_IL6_JAK_STAT3_SIGNALING']]\n",
    "    jak_stat_pathway_score_df=jak_stat_pathway_score_df.reset_index(level=0)\n",
    "    frames_jak_stat[i]=jak_stat_pathway_score_df\n",
    "df_jak_stat=pd.concat(frames_jak_stat)\n",
    "df_jak_stat=df_jak_stat.set_index(['index'])\n",
    "\n",
    "copy_no_meth_jak_stat_gene_df=pd.merge(copy_no_meth_df, df_jak_stat, left_index=True, right_index=True)"
   ]
  },
  {
   "cell_type": "code",
   "execution_count": 86,
   "metadata": {
    "scrolled": false
   },
   "outputs": [
    {
     "name": "stderr",
     "output_type": "stream",
     "text": [
      "/home/rahul/miniconda3/envs/testenv/lib/python3.6/site-packages/pandas/core/indexing.py:1763: SettingWithCopyWarning: \n",
      "A value is trying to be set on a copy of a slice from a DataFrame.\n",
      "Try using .loc[row_indexer,col_indexer] = value instead\n",
      "\n",
      "See the caveats in the documentation: https://pandas.pydata.org/pandas-docs/stable/user_guide/indexing.html#returning-a-view-versus-a-copy\n",
      "  isetter(loc, value)\n"
     ]
    },
    {
     "name": "stdout",
     "output_type": "stream",
     "text": [
      "p-value annotation legend:\n",
      "ns: 5.00e-02 < p <= 1.00e+00\n",
      "*: 1.00e-02 < p <= 5.00e-02\n",
      "**: 1.00e-03 < p <= 1.00e-02\n",
      "***: 1.00e-04 < p <= 1.00e-03\n",
      "****: p <= 1.00e-04\n",
      "\n",
      "none v.s. deleted: Mann-Whitney-Wilcoxon test two-sided, P_val=6.075e-03 U_stat=8.527e+06\n",
      "deleted v.s. amplified: Mann-Whitney-Wilcoxon test two-sided, P_val=1.387e-02 U_stat=2.047e+06\n",
      "none v.s. amplified: Mann-Whitney-Wilcoxon test two-sided, P_val=1.277e-06 U_stat=4.800e+06\n"
     ]
    },
    {
     "data": {
      "image/png": "[encoded data removed]",
      "text/plain": [
       "<Figure size 432x288 with 1 Axes>"
      ]
     },
     "metadata": {},
     "output_type": "display_data"
    },
    {
     "name": "stderr",
     "output_type": "stream",
     "text": [
      "/home/rahul/miniconda3/envs/testenv/lib/python3.6/site-packages/pandas/core/indexing.py:1763: SettingWithCopyWarning: \n",
      "A value is trying to be set on a copy of a slice from a DataFrame.\n",
      "Try using .loc[row_indexer,col_indexer] = value instead\n",
      "\n",
      "See the caveats in the documentation: https://pandas.pydata.org/pandas-docs/stable/user_guide/indexing.html#returning-a-view-versus-a-copy\n",
      "  isetter(loc, value)\n"
     ]
    },
    {
     "name": "stdout",
     "output_type": "stream",
     "text": [
      "p-value annotation legend:\n",
      "ns: 5.00e-02 < p <= 1.00e+00\n",
      "*: 1.00e-02 < p <= 5.00e-02\n",
      "**: 1.00e-03 < p <= 1.00e-02\n",
      "***: 1.00e-04 < p <= 1.00e-03\n",
      "****: p <= 1.00e-04\n",
      "\n",
      "none v.s. amplified: Mann-Whitney-Wilcoxon test two-sided, P_val=6.317e-07 U_stat=7.397e+06\n",
      "amplified v.s. deleted: Mann-Whitney-Wilcoxon test two-sided, P_val=2.083e-01 U_stat=1.390e+06\n",
      "none v.s. deleted: Mann-Whitney-Wilcoxon test two-sided, P_val=5.449e-09 U_stat=5.150e+06\n"
     ]
    },
    {
     "data": {
      "image/png": "[encoded data removed]",
      "text/plain": [
       "<Figure size 432x288 with 1 Axes>"
      ]
     },
     "metadata": {},
     "output_type": "display_data"
    }
   ],
   "source": [
    "#sns.set(font_scale=1)\n",
    "order=['none','deleted','amplified']\n",
    "dft=copy_no_meth_jak_stat_gene_df[['PSMB10','HALLMARK_IL6_JAK_STAT3_SIGNALING']]\n",
    "dft.loc[dft[\"PSMB10\"] == 0,'PSMB10'] = 'none'\n",
    "dft.loc[dft[\"PSMB10\"] == 1,'PSMB10'] = 'amplified'\n",
    "dft.loc[dft[\"PSMB10\"] == 2,'PSMB10'] = 'amplified'\n",
    "dft.loc[dft[\"PSMB10\"] == -1,'PSMB10'] = 'deleted'\n",
    "dft.loc[dft[\"PSMB10\"] == -2,'PSMB10'] = 'deleted'\n",
    "res=sns.boxplot(x=\"PSMB10\", y=\"HALLMARK_IL6_JAK_STAT3_SIGNALING\",data=dft,order=order)\n",
    "add_stat_annotation(res, data=dft, x=\"PSMB10\", y=\"HALLMARK_IL6_JAK_STAT3_SIGNALING\",box_pairs=box_pairs,test='Mann-Whitney',comparisons_correction=None,text_format='star', loc='inside', verbose=2,linewidth=0.9,fontsize = 12)\n",
    "plt.savefig('/workspace/projects/immunoproteasome/plots/PSMB10_IL6_JAK_plot.svg',bbox_inches = \"tight\",dpi=500)\n",
    "plt.show()\n",
    "\n",
    "dft=copy_no_meth_jak_stat_gene_df[['PSMB9','HALLMARK_IL6_JAK_STAT3_SIGNALING']]\n",
    "dft.loc[dft[\"PSMB9\"] == 0,'PSMB9'] = 'none'\n",
    "dft.loc[dft[\"PSMB9\"] == 1,'PSMB9'] = 'amplified'\n",
    "dft.loc[dft[\"PSMB9\"] == 2,'PSMB9'] = 'amplified'\n",
    "dft.loc[dft[\"PSMB9\"] == -1,'PSMB9'] = 'deleted'\n",
    "dft.loc[dft[\"PSMB9\"] == -2,'PSMB9'] = 'deleted'\n",
    "res=sns.boxplot(x=\"PSMB9\", y=\"HALLMARK_IL6_JAK_STAT3_SIGNALING\",data=dft,order=order)\n",
    "add_stat_annotation(res, data=dft, x=\"PSMB9\", y=\"HALLMARK_IL6_JAK_STAT3_SIGNALING\",box_pairs=box_pairs,test='Mann-Whitney',comparisons_correction=None,text_format='star', loc='inside', verbose=2,linewidth=0.9,fontsize = 12)\n",
    "plt.savefig('/workspace/projects/immunoproteasome/plots/PSMB9_IL6_JAK_plot.svg',bbox_inches = \"tight\",dpi=500)\n",
    "plt.show()"
   ]
  },
  {
   "cell_type": "markdown",
   "metadata": {},
   "source": [
    "## Interferon-alpha analysis"
   ]
  },
  {
   "cell_type": "code",
   "execution_count": 88,
   "metadata": {},
   "outputs": [],
   "source": [
    "import glob, os\n",
    "os.chdir(\"/workspace/projects/immunoproteasome/v1_copy_5/03_output/\")\n",
    "tumor_tissue_pathway_score=[]\n",
    "for  i in glob.glob(\"GSVA*.tsv\"):\n",
    "    tumor_tissue_pathway_score.append(i)\n",
    "os.chdir(\"/workspace/projects/immunoproteasome/\")"
   ]
  },
  {
   "cell_type": "code",
   "execution_count": 89,
   "metadata": {},
   "outputs": [],
   "source": [
    "tt_list=list(df_probe_tt_genes_final['tumor_type'])\n",
    "gene_list=list(df_probe_tt_genes_final['genes'])\n",
    "probe_list=list(df_probe_tt_genes_final['probe'])\n",
    "\n",
    "input_path11=\"/workspace/projects/immunoproteasome/v1_copy_5/03_output/\"\n",
    "frames_jak_stat={}\n",
    "for i in range(len(tumor_tissue_pathway_score)):\n",
    "    pathway_score_df=pd.read_csv(input_path11+tumor_tissue_pathway_score[i],sep='\\t')\n",
    "    jak_stat_pathway_score_df=pathway_score_df.T[['HALLMARK_INTERFERON_ALPHA_RESPONSE']]\n",
    "    jak_stat_pathway_score_df=jak_stat_pathway_score_df.reset_index(level=0)\n",
    "    frames_jak_stat[i]=jak_stat_pathway_score_df\n",
    "    #meth_score_df=copy_no_meth_df[[probe_list[i]]]\n",
    "    #jak_stat_meth_score_df=pd.merge(jak_stat_pathway_score_df, meth_score_df, left_index=True, right_index=True)\n",
    "    #plt.plot(jak_stat_meth_score_df['HALLMARK_IL6_JAK_STAT3_SIGNALING'],jak_stat_meth_score_df[probe_list[i]],'o')\n",
    "    #plt.title(tt_list[i]+'_'+gene_list[i])\n",
    "    #plt.show()\n",
    "df_jak_stat=pd.concat(frames_jak_stat)\n",
    "df_jak_stat=df_jak_stat.set_index(['index'])\n",
    "\n",
    "copy_no_meth_jak_stat_gene_df=pd.merge(copy_no_meth_df, df_jak_stat, left_index=True, right_index=True)"
   ]
  },
  {
   "cell_type": "code",
   "execution_count": 90,
   "metadata": {
    "scrolled": false
   },
   "outputs": [
    {
     "name": "stderr",
     "output_type": "stream",
     "text": [
      "/home/rahul/miniconda3/envs/testenv/lib/python3.6/site-packages/pandas/core/indexing.py:1763: SettingWithCopyWarning: \n",
      "A value is trying to be set on a copy of a slice from a DataFrame.\n",
      "Try using .loc[row_indexer,col_indexer] = value instead\n",
      "\n",
      "See the caveats in the documentation: https://pandas.pydata.org/pandas-docs/stable/user_guide/indexing.html#returning-a-view-versus-a-copy\n",
      "  isetter(loc, value)\n"
     ]
    },
    {
     "name": "stdout",
     "output_type": "stream",
     "text": [
      "p-value annotation legend:\n",
      "ns: 5.00e-02 < p <= 1.00e+00\n",
      "*: 1.00e-02 < p <= 5.00e-02\n",
      "**: 1.00e-03 < p <= 1.00e-02\n",
      "***: 1.00e-04 < p <= 1.00e-03\n",
      "****: p <= 1.00e-04\n",
      "\n",
      "none v.s. deleted: Mann-Whitney-Wilcoxon test two-sided, P_val=1.355e-03 U_stat=8.578e+06\n",
      "deleted v.s. amplified: Mann-Whitney-Wilcoxon test two-sided, P_val=4.024e-02 U_stat=2.032e+06\n",
      "none v.s. amplified: Mann-Whitney-Wilcoxon test two-sided, P_val=7.451e-07 U_stat=4.808e+06\n"
     ]
    },
    {
     "data": {
      "image/png": "[encoded data removed]",
      "text/plain": [
       "<Figure size 432x288 with 1 Axes>"
      ]
     },
     "metadata": {},
     "output_type": "display_data"
    },
    {
     "name": "stderr",
     "output_type": "stream",
     "text": [
      "/home/rahul/miniconda3/envs/testenv/lib/python3.6/site-packages/pandas/core/indexing.py:1763: SettingWithCopyWarning: \n",
      "A value is trying to be set on a copy of a slice from a DataFrame.\n",
      "Try using .loc[row_indexer,col_indexer] = value instead\n",
      "\n",
      "See the caveats in the documentation: https://pandas.pydata.org/pandas-docs/stable/user_guide/indexing.html#returning-a-view-versus-a-copy\n",
      "  isetter(loc, value)\n"
     ]
    },
    {
     "name": "stdout",
     "output_type": "stream",
     "text": [
      "p-value annotation legend:\n",
      "ns: 5.00e-02 < p <= 1.00e+00\n",
      "*: 1.00e-02 < p <= 5.00e-02\n",
      "**: 1.00e-03 < p <= 1.00e-02\n",
      "***: 1.00e-04 < p <= 1.00e-03\n",
      "****: p <= 1.00e-04\n",
      "\n",
      "none v.s. amplified: Mann-Whitney-Wilcoxon test two-sided, P_val=1.332e-02 U_stat=7.143e+06\n",
      "amplified v.s. deleted: Mann-Whitney-Wilcoxon test two-sided, P_val=3.782e-01 U_stat=1.380e+06\n",
      "none v.s. deleted: Mann-Whitney-Wilcoxon test two-sided, P_val=1.279e-03 U_stat=4.940e+06\n"
     ]
    },
    {
     "data": {
      "image/png": "[encoded data removed]",
      "text/plain": [
       "<Figure size 432x288 with 1 Axes>"
      ]
     },
     "metadata": {},
     "output_type": "display_data"
    }
   ],
   "source": [
    "#sns.set(font_scale=1)\n",
    "order=['none','deleted','amplified']\n",
    "dft=copy_no_meth_jak_stat_gene_df[['PSMB10','HALLMARK_INTERFERON_ALPHA_RESPONSE']]\n",
    "dft.loc[dft[\"PSMB10\"] == 0,'PSMB10'] = 'none'\n",
    "dft.loc[dft[\"PSMB10\"] == 1,'PSMB10'] = 'amplified'\n",
    "dft.loc[dft[\"PSMB10\"] == 2,'PSMB10'] = 'amplified'\n",
    "dft.loc[dft[\"PSMB10\"] == -1,'PSMB10'] = 'deleted'\n",
    "dft.loc[dft[\"PSMB10\"] == -2,'PSMB10'] = 'deleted'\n",
    "res=sns.boxplot(x=\"PSMB10\", y=\"HALLMARK_INTERFERON_ALPHA_RESPONSE\",data=dft,order=order)\n",
    "add_stat_annotation(res, data=dft, x=\"PSMB10\", y=\"HALLMARK_INTERFERON_ALPHA_RESPONSE\",box_pairs=box_pairs,test='Mann-Whitney',comparisons_correction=None,text_format='star', loc='inside', verbose=2,linewidth=0.9,fontsize = 12)\n",
    "plt.savefig('/workspace/projects/immunoproteasome/plots/PSMB10_Interferon_plot.svg',bbox_inches = \"tight\",dpi=500)\n",
    "plt.show()\n",
    "\n",
    "dft=copy_no_meth_jak_stat_gene_df[['PSMB9','HALLMARK_INTERFERON_ALPHA_RESPONSE']]\n",
    "dft.loc[dft[\"PSMB9\"] == 0,'PSMB9'] = 'none'\n",
    "dft.loc[dft[\"PSMB9\"] == 1,'PSMB9'] = 'amplified'\n",
    "dft.loc[dft[\"PSMB9\"] == 2,'PSMB9'] = 'amplified'\n",
    "dft.loc[dft[\"PSMB9\"] == -1,'PSMB9'] = 'deleted'\n",
    "dft.loc[dft[\"PSMB9\"] == -2,'PSMB9'] = 'deleted'\n",
    "res=sns.boxplot(x=\"PSMB9\", y=\"HALLMARK_INTERFERON_ALPHA_RESPONSE\",data=dft,order=order)\n",
    "add_stat_annotation(res, data=dft, x=\"PSMB9\", y=\"HALLMARK_INTERFERON_ALPHA_RESPONSE\",box_pairs=box_pairs,test='Mann-Whitney',comparisons_correction=None,text_format='star', loc='inside', verbose=2,linewidth=0.9,fontsize = 12)\n",
    "plt.savefig('/workspace/projects/immunoproteasome/plots/PSMB9_Interferon_plot.svg',bbox_inches = \"tight\",dpi=500)\n",
    "plt.show()"
   ]
  },
  {
   "cell_type": "markdown",
   "metadata": {},
   "source": [
    "### IRF1 expression with copy number"
   ]
  },
  {
   "cell_type": "code",
   "execution_count": 91,
   "metadata": {},
   "outputs": [],
   "source": [
    "import glob, os\n",
    "os.chdir(\"/workspace/projects/immunoproteasome/data/tcga_tumor/\")\n",
    "list_of_tumor_filename=[]\n",
    "for  i in glob.glob(\"*.tsv\"):\n",
    "    list_of_tumor_filename.append(i)\n",
    "os.chdir(\"/workspace/incubator/rahul_project/\")"
   ]
  },
  {
   "cell_type": "code",
   "execution_count": 92,
   "metadata": {},
   "outputs": [],
   "source": [
    "input_path1=\"/workspace/projects/immunoproteasome/data/tcga_tumor/\"\n",
    "frames={}\n",
    "for i in range(len(list_of_tumor_filename)):\n",
    "    gene_data_frame=pd.read_csv(input_path1+list_of_tumor_filename[i],index_col='Hybridization REF',sep='\\t')\n",
    "    gene_data_frame.columns=gene_data_frame.columns.str.split('-').str[0:3].str.join('.')\n",
    "    gene_data_frame=(gene_data_frame+1).T\n",
    "    log_gene_data_frame=np.log2(gene_data_frame[['IRF1']])\n",
    "    log_gene_data_frame=log_gene_data_frame.reset_index(level=0)\n",
    "    frames[i]=log_gene_data_frame\n",
    "\n",
    "IRF1_gene_expr=pd.concat(frames)\n",
    "IRF1_gene_expr=IRF1_gene_expr.set_index(['index'])\n",
    "copy_no_IRF1_gene_expr=pd.merge(copy_no_df.T[['PSMB8','PSMB9','PSMB10']], IRF1_gene_expr, left_index=True, right_index=True)"
   ]
  },
  {
   "cell_type": "code",
   "execution_count": 94,
   "metadata": {},
   "outputs": [
    {
     "name": "stderr",
     "output_type": "stream",
     "text": [
      "/home/rahul/miniconda3/envs/testenv/lib/python3.6/site-packages/pandas/core/indexing.py:1763: SettingWithCopyWarning: \n",
      "A value is trying to be set on a copy of a slice from a DataFrame.\n",
      "Try using .loc[row_indexer,col_indexer] = value instead\n",
      "\n",
      "See the caveats in the documentation: https://pandas.pydata.org/pandas-docs/stable/user_guide/indexing.html#returning-a-view-versus-a-copy\n",
      "  isetter(loc, value)\n"
     ]
    },
    {
     "name": "stdout",
     "output_type": "stream",
     "text": [
      "p-value annotation legend:\n",
      "ns: 5.00e-02 < p <= 1.00e+00\n",
      "*: 1.00e-02 < p <= 5.00e-02\n",
      "**: 1.00e-03 < p <= 1.00e-02\n",
      "***: 1.00e-04 < p <= 1.00e-03\n",
      "****: p <= 1.00e-04\n",
      "\n",
      "none v.s. amplified: Mann-Whitney-Wilcoxon test two-sided, P_val=7.315e-01 U_stat=3.505e+06\n",
      "amplified v.s. deleted: Mann-Whitney-Wilcoxon test two-sided, P_val=3.834e-05 U_stat=1.461e+06\n",
      "none v.s. deleted: Mann-Whitney-Wilcoxon test two-sided, P_val=8.625e-09 U_stat=6.241e+06\n"
     ]
    },
    {
     "data": {
      "image/png": "[encoded data removed]",
      "text/plain": [
       "<Figure size 432x288 with 1 Axes>"
      ]
     },
     "metadata": {},
     "output_type": "display_data"
    },
    {
     "name": "stderr",
     "output_type": "stream",
     "text": [
      "/home/rahul/miniconda3/envs/testenv/lib/python3.6/site-packages/pandas/core/indexing.py:1763: SettingWithCopyWarning: \n",
      "A value is trying to be set on a copy of a slice from a DataFrame.\n",
      "Try using .loc[row_indexer,col_indexer] = value instead\n",
      "\n",
      "See the caveats in the documentation: https://pandas.pydata.org/pandas-docs/stable/user_guide/indexing.html#returning-a-view-versus-a-copy\n",
      "  isetter(loc, value)\n"
     ]
    },
    {
     "name": "stdout",
     "output_type": "stream",
     "text": [
      "p-value annotation legend:\n",
      "ns: 5.00e-02 < p <= 1.00e+00\n",
      "*: 1.00e-02 < p <= 5.00e-02\n",
      "**: 1.00e-03 < p <= 1.00e-02\n",
      "***: 1.00e-04 < p <= 1.00e-03\n",
      "****: p <= 1.00e-04\n",
      "\n",
      "none v.s. amplified: Mann-Whitney-Wilcoxon test two-sided, P_val=1.424e-06 U_stat=5.315e+06\n",
      "amplified v.s. deleted: Mann-Whitney-Wilcoxon test two-sided, P_val=9.223e-01 U_stat=1.106e+06\n",
      "none v.s. deleted: Mann-Whitney-Wilcoxon test two-sided, P_val=4.795e-05 U_stat=3.426e+06\n"
     ]
    },
    {
     "data": {
      "image/png": "[encoded data removed]",
      "text/plain": [
       "<Figure size 432x288 with 1 Axes>"
      ]
     },
     "metadata": {},
     "output_type": "display_data"
    }
   ],
   "source": [
    "#sns.set(font_scale=1)\n",
    "order=['none','deleted','amplified']\n",
    "dft=copy_no_IRF1_gene_expr[['PSMB10','IRF1']]\n",
    "dft.loc[dft[\"PSMB10\"] == 0,'PSMB10'] = 'none'\n",
    "dft.loc[dft[\"PSMB10\"] == 1,'PSMB10'] = 'amplified'\n",
    "dft.loc[dft[\"PSMB10\"] == 2,'PSMB10'] = 'amplified'\n",
    "dft.loc[dft[\"PSMB10\"] == -1,'PSMB10'] = 'deleted'\n",
    "dft.loc[dft[\"PSMB10\"] == -2,'PSMB10'] = 'deleted'\n",
    "res=sns.boxplot(x=\"PSMB10\", y=\"IRF1\",data=dft,order=order)\n",
    "add_stat_annotation(res, data=dft, x=\"PSMB10\", y=\"IRF1\",box_pairs=box_pairs,test='Mann-Whitney',comparisons_correction=None,text_format='star', loc='inside', verbose=2,linewidth=0.9,fontsize = 12)\n",
    "plt.savefig('/workspace/projects/immunoproteasome/plots/PSMB10_IRF1_plot.svg',bbox_inches = \"tight\",dpi=500)\n",
    "plt.show()\n",
    "\n",
    "dft=copy_no_IRF1_gene_expr[['PSMB9','IRF1']]\n",
    "dft.loc[dft[\"PSMB9\"] == 0,'PSMB9'] = 'none'\n",
    "dft.loc[dft[\"PSMB9\"] == 1,'PSMB9'] = 'amplified'\n",
    "dft.loc[dft[\"PSMB9\"] == 2,'PSMB9'] = 'amplified'\n",
    "dft.loc[dft[\"PSMB9\"] == -1,'PSMB9'] = 'deleted'\n",
    "dft.loc[dft[\"PSMB9\"] == -2,'PSMB9'] = 'deleted'\n",
    "res=sns.boxplot(x=\"PSMB9\", y=\"IRF1\",data=dft,order=order)\n",
    "add_stat_annotation(res, data=dft, x=\"PSMB9\", y=\"IRF1\",box_pairs=box_pairs,test='Mann-Whitney',comparisons_correction=None,text_format='star', loc='inside', verbose=2,linewidth=0.9,fontsize = 12)\n",
    "plt.savefig('/workspace/projects/immunoproteasome/plots/PSMB9_IRF1_plot.svg',bbox_inches = \"tight\",dpi=500)\n",
    "plt.show()"
   ]
  },
  {
   "cell_type": "code",
   "execution_count": null,
   "metadata": {},
   "outputs": [],
   "source": []
  },
  {
   "cell_type": "code",
   "execution_count": null,
   "metadata": {},
   "outputs": [],
   "source": []
  }
 ],
 "metadata": {
  "kernelspec": {
   "display_name": "Python 3",
   "language": "python",
   "name": "python3"
  },
  "language_info": {
   "codemirror_mode": {
    "name": "ipython",
    "version": 3
   },
   "file_extension": ".py",
   "mimetype": "text/x-python",
   "name": "python",
   "nbconvert_exporter": "python",
   "pygments_lexer": "ipython3",
   "version": "3.6.8"
  }
 },
 "nbformat": 4,
 "nbformat_minor": 2
}
